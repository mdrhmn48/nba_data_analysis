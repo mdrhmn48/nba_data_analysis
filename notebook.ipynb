{
 "cells": [
  {
   "cell_type": "code",
   "execution_count": 3,
   "metadata": {},
   "outputs": [],
   "source": [
    "import pandas as pd\n",
    "import sqlite3"
   ]
  },
  {
   "cell_type": "code",
   "execution_count": 4,
   "metadata": {},
   "outputs": [],
   "source": [
    "conn = sqlite3.connect('nba.sqlite')\n",
    "cursor = conn.cursor()\n",
    "cursor.execute(\"SELECT name FROM sqlite_master WHERE type='table';\")\n",
    "tables = cursor.fetchall()\n",
    "\n",
    "# # Print the table names\n",
    "for table in tables:\n",
    "    table_name = table[0]\n",
    "    # Read the table data into a pandas DataFrame\n",
    "    df = pd.read_sql_query(f\"SELECT * FROM {table_name}\", conn)\n",
    "    # Save DataFrame to CSV\n",
    "    df.to_csv(f\"{table_name}.csv\", index=False)\n"
   ]
  },
  {
   "cell_type": "code",
   "execution_count": 34,
   "metadata": {},
   "outputs": [
    {
     "name": "stdout",
     "output_type": "stream",
     "text": [
      "game\n",
      "game_summary\n",
      "other_stats\n",
      "officials\n",
      "inactive_players\n",
      "game_info\n",
      "line_score\n",
      "play_by_play\n",
      "player\n",
      "team\n",
      "common_player_info\n",
      "team_details\n",
      "team_history\n",
      "draft_combine_stats\n",
      "draft_history\n",
      "team_info_common\n"
     ]
    }
   ],
   "source": [
    "cursor.execute(\"SELECT name FROM sqlite_master WHERE type='table';\")\n",
    "tables = cursor.fetchall()\n",
    "\n",
    "# Print the table names\n",
    "for table in tables:\n",
    "    print(table[0])"
   ]
  },
  {
   "cell_type": "code",
   "execution_count": 1,
   "metadata": {},
   "outputs": [
    {
     "ename": "NameError",
     "evalue": "name 'cursor' is not defined",
     "output_type": "error",
     "traceback": [
      "\u001b[1;31m---------------------------------------------------------------------------\u001b[0m",
      "\u001b[1;31mNameError\u001b[0m                                 Traceback (most recent call last)",
      "Cell \u001b[1;32mIn[1], line 2\u001b[0m\n\u001b[0;32m      1\u001b[0m \u001b[39m# Execute an SQL query\u001b[39;00m\n\u001b[1;32m----> 2\u001b[0m cursor\u001b[39m.\u001b[39mexecute(\u001b[39m\"\u001b[39m\u001b[39mSELECT * FROM game\u001b[39m\u001b[39m\"\u001b[39m)\n\u001b[0;32m      4\u001b[0m \u001b[39m# Fetch the results\u001b[39;00m\n\u001b[0;32m      5\u001b[0m rows \u001b[39m=\u001b[39m cursor\u001b[39m.\u001b[39mfetchall()\n",
      "\u001b[1;31mNameError\u001b[0m: name 'cursor' is not defined"
     ]
    }
   ],
   "source": [
    "# Execute an SQL query\n",
    "cursor.execute(\"SELECT * FROM game\")\n",
    "\n",
    "# Fetch the results\n",
    "rows = cursor.fetchall()\n",
    "\n",
    "# Convert the results to a pandas DataFrame\n",
    "df = pd.DataFrame(rows)\n",
    "\n",
    "# Print the DataFrame\n",
    "print(df)"
   ]
  },
  {
   "cell_type": "code",
   "execution_count": 30,
   "metadata": {},
   "outputs": [
    {
     "ename": "ProgrammingError",
     "evalue": "Cannot operate on a closed database.",
     "output_type": "error",
     "traceback": [
      "\u001b[1;31m---------------------------------------------------------------------------\u001b[0m",
      "\u001b[1;31mProgrammingError\u001b[0m                          Traceback (most recent call last)",
      "Cell \u001b[1;32mIn[30], line 1\u001b[0m\n\u001b[1;32m----> 1\u001b[0m result1 \u001b[39m=\u001b[39m pd\u001b[39m.\u001b[39;49mread_sql_query(\u001b[39m\"\u001b[39;49m\u001b[39mSELECT * FROM game_info;\u001b[39;49m\u001b[39m\"\u001b[39;49m, conn)\n\u001b[0;32m      2\u001b[0m result2 \u001b[39m=\u001b[39m pd\u001b[39m.\u001b[39mread_sql_query(\u001b[39m\"\u001b[39m\u001b[39mSELECT * FROM game;\u001b[39m\u001b[39m\"\u001b[39m, conn)\n",
      "File \u001b[1;32mc:\\Users\\MD_Rahman\\Desktop\\Cognixia\\PEP2\\pep_project2\\venv\\lib\\site-packages\\pandas\\io\\sql.py:469\u001b[0m, in \u001b[0;36mread_sql_query\u001b[1;34m(sql, con, index_col, coerce_float, params, parse_dates, chunksize, dtype, dtype_backend)\u001b[0m\n\u001b[0;32m    466\u001b[0m     dtype_backend \u001b[39m=\u001b[39m \u001b[39m\"\u001b[39m\u001b[39mnumpy\u001b[39m\u001b[39m\"\u001b[39m  \u001b[39m# type: ignore[assignment]\u001b[39;00m\n\u001b[0;32m    468\u001b[0m \u001b[39mwith\u001b[39;00m pandasSQL_builder(con) \u001b[39mas\u001b[39;00m pandas_sql:\n\u001b[1;32m--> 469\u001b[0m     \u001b[39mreturn\u001b[39;00m pandas_sql\u001b[39m.\u001b[39;49mread_query(\n\u001b[0;32m    470\u001b[0m         sql,\n\u001b[0;32m    471\u001b[0m         index_col\u001b[39m=\u001b[39;49mindex_col,\n\u001b[0;32m    472\u001b[0m         params\u001b[39m=\u001b[39;49mparams,\n\u001b[0;32m    473\u001b[0m         coerce_float\u001b[39m=\u001b[39;49mcoerce_float,\n\u001b[0;32m    474\u001b[0m         parse_dates\u001b[39m=\u001b[39;49mparse_dates,\n\u001b[0;32m    475\u001b[0m         chunksize\u001b[39m=\u001b[39;49mchunksize,\n\u001b[0;32m    476\u001b[0m         dtype\u001b[39m=\u001b[39;49mdtype,\n\u001b[0;32m    477\u001b[0m         dtype_backend\u001b[39m=\u001b[39;49mdtype_backend,\n\u001b[0;32m    478\u001b[0m     )\n",
      "File \u001b[1;32mc:\\Users\\MD_Rahman\\Desktop\\Cognixia\\PEP2\\pep_project2\\venv\\lib\\site-packages\\pandas\\io\\sql.py:2266\u001b[0m, in \u001b[0;36mSQLiteDatabase.read_query\u001b[1;34m(self, sql, index_col, coerce_float, parse_dates, params, chunksize, dtype, dtype_backend)\u001b[0m\n\u001b[0;32m   2255\u001b[0m \u001b[39mdef\u001b[39;00m \u001b[39mread_query\u001b[39m(\n\u001b[0;32m   2256\u001b[0m     \u001b[39mself\u001b[39m,\n\u001b[0;32m   2257\u001b[0m     sql,\n\u001b[1;32m   (...)\u001b[0m\n\u001b[0;32m   2264\u001b[0m     dtype_backend: DtypeBackend \u001b[39m|\u001b[39m Literal[\u001b[39m\"\u001b[39m\u001b[39mnumpy\u001b[39m\u001b[39m\"\u001b[39m] \u001b[39m=\u001b[39m \u001b[39m\"\u001b[39m\u001b[39mnumpy\u001b[39m\u001b[39m\"\u001b[39m,\n\u001b[0;32m   2265\u001b[0m ) \u001b[39m-\u001b[39m\u001b[39m>\u001b[39m DataFrame \u001b[39m|\u001b[39m Iterator[DataFrame]:\n\u001b[1;32m-> 2266\u001b[0m     cursor \u001b[39m=\u001b[39m \u001b[39mself\u001b[39;49m\u001b[39m.\u001b[39;49mexecute(sql, params)\n\u001b[0;32m   2267\u001b[0m     columns \u001b[39m=\u001b[39m [col_desc[\u001b[39m0\u001b[39m] \u001b[39mfor\u001b[39;00m col_desc \u001b[39min\u001b[39;00m cursor\u001b[39m.\u001b[39mdescription]\n\u001b[0;32m   2269\u001b[0m     \u001b[39mif\u001b[39;00m chunksize \u001b[39mis\u001b[39;00m \u001b[39mnot\u001b[39;00m \u001b[39mNone\u001b[39;00m:\n",
      "File \u001b[1;32mc:\\Users\\MD_Rahman\\Desktop\\Cognixia\\PEP2\\pep_project2\\venv\\lib\\site-packages\\pandas\\io\\sql.py:2200\u001b[0m, in \u001b[0;36mSQLiteDatabase.execute\u001b[1;34m(self, sql, params)\u001b[0m\n\u001b[0;32m   2198\u001b[0m     \u001b[39mraise\u001b[39;00m \u001b[39mTypeError\u001b[39;00m(\u001b[39m\"\u001b[39m\u001b[39mQuery must be a string unless using sqlalchemy.\u001b[39m\u001b[39m\"\u001b[39m)\n\u001b[0;32m   2199\u001b[0m args \u001b[39m=\u001b[39m [] \u001b[39mif\u001b[39;00m params \u001b[39mis\u001b[39;00m \u001b[39mNone\u001b[39;00m \u001b[39melse\u001b[39;00m [params]\n\u001b[1;32m-> 2200\u001b[0m cur \u001b[39m=\u001b[39m \u001b[39mself\u001b[39;49m\u001b[39m.\u001b[39;49mcon\u001b[39m.\u001b[39;49mcursor()\n\u001b[0;32m   2201\u001b[0m \u001b[39mtry\u001b[39;00m:\n\u001b[0;32m   2202\u001b[0m     cur\u001b[39m.\u001b[39mexecute(sql, \u001b[39m*\u001b[39margs)\n",
      "\u001b[1;31mProgrammingError\u001b[0m: Cannot operate on a closed database."
     ]
    }
   ],
   "source": [
    "result1 = pd.read_sql_query(\"SELECT * FROM game_info;\", conn)\n",
    "result2 = pd.read_sql_query(\"SELECT * FROM game;\", conn)"
   ]
  }
 ],
 "metadata": {
  "kernelspec": {
   "display_name": "venv",
   "language": "python",
   "name": "python3"
  },
  "language_info": {
   "codemirror_mode": {
    "name": "ipython",
    "version": 3
   },
   "file_extension": ".py",
   "mimetype": "text/x-python",
   "name": "python",
   "nbconvert_exporter": "python",
   "pygments_lexer": "ipython3",
   "version": "3.10.9"
  },
  "orig_nbformat": 4
 },
 "nbformat": 4,
 "nbformat_minor": 2
}
