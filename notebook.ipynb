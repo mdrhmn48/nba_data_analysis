{
 "cells": [
  {
   "cell_type": "code",
   "execution_count": 1,
   "metadata": {},
   "outputs": [],
   "source": [
    "import pandas as pd\n",
    "import sqlite3\n",
    "import os"
   ]
  },
  {
   "cell_type": "code",
   "execution_count": 2,
   "metadata": {},
   "outputs": [],
   "source": [
    "conn = sqlite3.connect('nba.sqlite')\n",
    "cursor = conn.cursor()\n",
    "conn.execute(\"SELECT name FROM sqlite_master WHERE type='table';\")\n",
    "tables = cursor.fetchall()\n",
    "output_folder = \"csv\"\n",
    "os.makedirs(output_folder, exist_ok=True)\n",
    "\n",
    "# # Print the table names\n",
    "# for table in tables:\n",
    "#     table_name = table[0]\n",
    "#     # Read the table data into a pandas DataFrame\n",
    "#     df = pd.read_sql_query(f\"SELECT * FROM {table_name}\", conn)\n",
    "#     output_file = os.path.join(output_folder, f\"{table_name}.csv\")\n",
    "#     # Save DataFrame to CSV\n",
    "#     df.to_csv(output_file, index=False)\n",
    "# conn.close()\n"
   ]
  },
  {
   "cell_type": "code",
   "execution_count": 12,
   "metadata": {},
   "outputs": [],
   "source": [
    "# # Read a CSV file into a DataFrame\n",
    "# df1 = spark.read.csv(\"csv/game.csv\", header=True, inferSchema=True)\n",
    "\n",
    "# # Perform some PySpark operations\n",
    "# # result = df1.groupBy(\"team_name_home\").count()\n",
    "\n",
    "# # Show the result\n",
    "# df1.show()"
   ]
  },
  {
   "cell_type": "code",
   "execution_count": 3,
   "metadata": {},
   "outputs": [],
   "source": [
    "# %%\n",
    "from pyspark.sql import SparkSession\n",
    "from pyspark.sql.functions import concat\n",
    "\n",
    "# Create a SparkSession\n",
    "spark = SparkSession.builder \\\n",
    "    .appName(\"PySpark Notebook\") \\\n",
    "    .getOrCreate()\n",
    "\n",
    "# %%\n",
    "\n"
   ]
  },
  {
   "cell_type": "code",
   "execution_count": 4,
   "metadata": {},
   "outputs": [
    {
     "name": "stdout",
     "output_type": "stream",
     "text": [
      "common_player_info.csv\n",
      "draft_combine_stats.csv\n",
      "draft_history.csv\n",
      "game.csv\n",
      "game_info.csv\n",
      "game_summary.csv\n",
      "inactive_players.csv\n",
      "line_score.csv\n",
      "officials.csv\n",
      "other_stats.csv\n",
      "player.csv\n",
      "play_by_play.csv\n",
      "team.csv\n",
      "team_details.csv\n",
      "team_history.csv\n",
      "team_info_common.csv\n"
     ]
    }
   ],
   "source": [
    "import os\n",
    "# Specify the folder path\n",
    "folder_path = \"csv/\"\n",
    "\n",
    "# Get a list of all files in the folder\n",
    "files = os.listdir(folder_path)\n",
    "\n",
    "# Print the file names\n",
    "for file in files:\n",
    "    print(file)\n"
   ]
  },
  {
   "cell_type": "code",
   "execution_count": 5,
   "metadata": {},
   "outputs": [],
   "source": [
    "file_names = [\"common_player_info.csv\",\n",
    "\"draft_combine_stats.csv\",\n",
    "\"draft_history.csv\",\n",
    "\"game.csv\",\n",
    "\"game_info.csv\",\n",
    "\"game_summary.csv\",\n",
    "\"inactive_players.csv\",\n",
    "\"line_score.csv\",\n",
    "\"officials.csv\",\n",
    "\"other_stats.csv\",\n",
    "\"player.csv\",\n",
    "\"play_by_play.csv\",\n",
    "\"team.csv\",\n",
    "\"team_details.csv\",\n",
    "\"team_history.csv\",\n",
    "\"team_info_common.csv\"]"
   ]
  },
  {
   "cell_type": "code",
   "execution_count": 14,
   "metadata": {},
   "outputs": [],
   "source": [
    "dataframes = {}\n",
    "for file_name in file_names:\n",
    "    file_path = \"csv/\" + file_name  # Update with the actual folder path\n",
    "    df = spark.read.csv(file_path, header=True, inferSchema=True)\n",
    "    dataframes[file_name] = df"
   ]
  },
  {
   "cell_type": "code",
   "execution_count": 15,
   "metadata": {},
   "outputs": [],
   "source": [
    "df_common_player_info = dataframes[\"common_player_info.csv\"]\n",
    "df_draft_combine_stats = dataframes[\"draft_combine_stats.csv\"]\n",
    "\n",
    "df_draft_history = dataframes[\"draft_history.csv\"]\n",
    "df_game= dataframes[\"game.csv\"]\n",
    "df_game_info = dataframes[\"game_info.csv\"]\n",
    "df_game_summary = dataframes[\"game_summary.csv\"]\n",
    "df_inactive_players = dataframes[\"inactive_players.csv\"]\n",
    "df_line_score = dataframes[\"line_score.csv\"]\n",
    "df_officials = dataframes[\"officials.csv\"]\n",
    "df_other_stats = dataframes[\"other_stats.csv\"]\n",
    "df_player = dataframes[\"player.csv\"]\n",
    "df_play_by_play = dataframes[\"play_by_play.csv\"]\n",
    "df_team = dataframes[\"team.csv\"]\n",
    "df_team_details = dataframes[\"team_details.csv\"]\n",
    "df_team_history = dataframes[\"team_history.csv\"]\n",
    "df_team_info_common = dataframes[\"team_info_common.csv\"]\n",
    "\n"
   ]
  },
  {
   "cell_type": "code",
   "execution_count": 17,
   "metadata": {},
   "outputs": [
    {
     "name": "stdout",
     "output_type": "stream",
     "text": [
      "+------+---------+----------+---------+----------------+--------+---------------+---------------------+--------------+--------------------+------+--------+--------------+--------------+--------------------+------------+-----------+----------+----------------------+-----------------+-----------------+--------------------------+--------------------+-----------+------------------------+-----------------------+--------------------+------------------------+-------------------------+------------------------+-----------------------+--------------------+------------------------+-------------------------+--------------------+-------------------+----------------+--------------------+---------------------+---------------------------+------------------------+----------------------------+---------------------------+------------------------+----------------------------+---------------+---------------+\n",
      "|season|player_id|first_name|last_name|     player_name|position|height_wo_shoes|height_wo_shoes_ft_in|height_w_shoes|height_w_shoes_ft_in|weight|wingspan|wingspan_ft_in|standing_reach|standing_reach_ft_in|body_fat_pct|hand_length|hand_width|standing_vertical_leap|max_vertical_leap|lane_agility_time|modified_lane_agility_time|three_quarter_sprint|bench_press|spot_fifteen_corner_left|spot_fifteen_break_left|spot_fifteen_top_key|spot_fifteen_break_right|spot_fifteen_corner_right|spot_college_corner_left|spot_college_break_left|spot_college_top_key|spot_college_break_right|spot_college_corner_right|spot_nba_corner_left|spot_nba_break_left|spot_nba_top_key|spot_nba_break_right|spot_nba_corner_right|off_drib_fifteen_break_left|off_drib_fifteen_top_key|off_drib_fifteen_break_right|off_drib_college_break_left|off_drib_college_top_key|off_drib_college_break_right|on_move_fifteen|on_move_college|\n",
      "+------+---------+----------+---------+----------------+--------+---------------+---------------------+--------------+--------------------+------+--------+--------------+--------------+--------------------+------------+-----------+----------+----------------------+-----------------+-----------------+--------------------------+--------------------+-----------+------------------------+-----------------------+--------------------+------------------------+-------------------------+------------------------+-----------------------+--------------------+------------------------+-------------------------+--------------------+-------------------+----------------+--------------------+---------------------+---------------------------+------------------------+----------------------------+---------------------------+------------------------+----------------------------+---------------+---------------+\n",
      "|  2000|     2124|     Malik|    Allen|     Malik Allen|    PF-C|          80.25|            6' 8.25''|          null|                null| 271.0|    86.5|      7' 2.5''|         109.0|              9' 1''|        null|       null|      null|                  25.5|             29.0|            11.83|                      null|                3.38|       13.0|                    null|                   null|                null|                    null|                     null|                    null|                   null|                null|                    null|                     null|                null|               null|            null|                null|                 null|                       null|                    null|                        null|                       null|                    null|                        null|           null|           null|\n",
      "|  2000|    12019|    Harold|Arceneaux|Harold Arceneaux|   SG-SF|           76.5|             6' 4.5''|          null|                null| 219.0|    80.5|      6' 8.5''|         103.0|              8' 7''|        null|       null|      null|                  null|             29.0|             13.8|                      null|                null|        0.0|                    null|                   null|                null|                    null|                     null|                    null|                   null|                null|                    null|                     null|                null|               null|            null|                null|                 null|                       null|                    null|                        null|                       null|                    null|                        null|           null|           null|\n",
      "|  2000|    12020|    Lamont|   Barnes|   Lamont Barnes|    PF-C|           80.5|             6' 8.5''|          null|                null| 235.5|    87.5|      7' 3.5''|         108.0|              9' 0''|        null|       null|      null|                  28.0|             29.5|             12.3|                      null|                 3.4|       10.0|                    null|                   null|                null|                    null|                     null|                    null|                   null|                null|                    null|                     null|                null|               null|            null|                null|                 null|                       null|                    null|                        null|                       null|                    null|                        null|           null|           null|\n",
      "|  2000|    12131|     Mario|    Bland|     Mario Bland|      PF|           77.5|             6' 5.5''|          null|                null| 287.0|    84.0|        7' 0''|         103.0|              8' 7''|        null|       null|      null|                  27.0|             31.0|            13.04|                      null|                3.47|       15.0|                    null|                   null|                null|                    null|                     null|                    null|                   null|                null|                    null|                     null|                null|               null|            null|                null|                 null|                       null|                    null|                        null|                       null|                    null|                        null|           null|           null|\n",
      "|  2000|     2056|    Primoz|   Brezec|   Primoz Brezec|       C|          84.75|            7' 0.75''|          null|                null| 243.0|    86.0|        7' 2''|         110.0|              9' 2''|        null|       null|      null|                  26.0|             29.5|            11.53|                      null|                3.55|       null|                    null|                   null|                null|                    null|                     null|                    null|                   null|                null|                    null|                     null|                null|               null|            null|                null|                 null|                       null|                    null|                        null|                       null|                    null|                        null|           null|           null|\n",
      "|  2000|     2081|    Ernest|    Brown|    Ernest Brown|       C|           82.0|              6' 10''|          null|                null| 222.5|   85.25|     7' 1.25''|         109.5|            9' 1.5''|        null|       null|      null|                  null|             null|             null|                      null|                null|        2.0|                    null|                   null|                null|                    null|                     null|                    null|                   null|                null|                    null|                     null|                null|               null|            null|                null|                 null|                       null|                    null|                        null|                       null|                    null|                        null|           null|           null|\n",
      "|  2000|     2049|    Speedy|  Claxton|  Speedy Claxton|      PG|           70.5|            5' 10.5''|          null|                null| 166.0|    72.0|        6' 0''|          94.5|           7' 10.5''|        null|       null|      null|                  36.0|             42.5|            10.48|                      null|                3.06|        6.0|                    null|                   null|                null|                    null|                     null|                    null|                   null|                null|                    null|                     null|                null|               null|            null|                null|                 null|                       null|                    null|                        null|                       null|                    null|                        null|           null|           null|\n",
      "|  2000|    12132|      Eric|    Coley|      Eric Coley|   SG-SF|           76.0|               6' 4''|          null|                null| 205.0|    83.0|       6' 11''|         102.0|              8' 6''|        null|       null|      null|                  35.0|             38.0|             11.4|                      null|                3.15|       10.0|                    null|                   null|                null|                    null|                     null|                    null|                   null|                null|                    null|                     null|                null|               null|            null|                null|                 null|                       null|                    null|                        null|                       null|                    null|                        null|           null|           null|\n",
      "|  2000|    12133|        Ed|     Cota|         Ed Cota|      PG|          72.25|            6' 0.25''|          null|                null| 189.0|    76.0|        6' 4''|          96.5|            8' 0.5''|        null|       null|      null|                  26.5|             33.5|            10.98|                      null|                3.24|        1.0|                    null|                   null|                null|                    null|                     null|                    null|                   null|                null|                    null|                     null|                null|               null|            null|                null|                 null|                       null|                    null|                        null|                       null|                    null|                        null|           null|           null|\n",
      "|  2000|    12134|     Schea|   Cotton|    Schea Cotton|      SF|          76.25|            6' 4.25''|          null|                null| 219.5|    79.0|        6' 7''|         100.0|              8' 4''|        null|       null|      null|                  34.0|             38.0|            11.55|                      null|                 3.0|       19.0|                    null|                   null|                null|                    null|                     null|                    null|                   null|                null|                    null|                     null|                null|               null|            null|                null|                 null|                       null|                    null|                        null|                       null|                    null|                        null|           null|           null|\n",
      "|  2000|     2037|     Jamal| Crawford|  Jamal Crawford|   PG-SG|           76.5|             6' 4.5''|          null|                null| 175.0|    82.0|       6' 10''|         102.5|            8' 6.5''|        null|       null|      null|                  null|             null|             null|                      null|                null|        0.0|                    null|                   null|                null|                    null|                     null|                    null|                   null|                null|                    null|                     null|                null|               null|            null|                null|                 null|                       null|                    null|                        null|                       null|                    null|                        null|           null|           null|\n",
      "|  2000|    12017|   Caswell|    Cyrus|   Caswell Cyrus|      PF|          79.75|            6' 7.75''|          null|                null| 220.5|    86.0|        7' 2''|         107.5|           8' 11.5''|        null|       null|      null|                  33.5|             37.5|            12.12|                      null|                3.16|       18.0|                    null|                   null|                null|                    null|                     null|                    null|                   null|                null|                    null|                     null|                null|               null|            null|                null|                 null|                       null|                    null|                        null|                       null|                    null|                        null|           null|           null|\n",
      "|  2000|     2064|    Khalid|  El-Amin|  Khalid El-Amin|      PG|           69.0|               5' 9''|          null|                null| 200.0|    73.5|      6' 1.5''|          93.0|              7' 9''|        null|       null|      null|                  27.5|             32.0|            10.59|                      null|                3.32|        6.0|                    null|                   null|                null|                    null|                     null|                    null|                   null|                null|                    null|                     null|                null|               null|            null|                null|                 null|                       null|                    null|                        null|                       null|                    null|                        null|           null|           null|\n",
      "|  2000|    12018|    Vassil|  Evtimov|  Vassil Evtimov|      PF|          81.75|            6' 9.75''|          null|                null| 262.0|    82.5|     6' 10.5''|         106.5|           8' 10.5''|        null|       null|      null|                  21.0|             28.5|            11.75|                      null|                3.52|       13.0|                    null|                   null|                null|                    null|                     null|                    null|                   null|                null|                    null|                     null|                null|               null|            null|                null|                 null|                       null|                    null|                        null|                       null|                    null|                        null|           null|           null|\n",
      "|  2000|     2238|   Antonis|   Fotsis|  Antonis Fotsis|      SF|          81.25|            6' 9.25''|          null|                null| 219.0|    80.5|      6' 8.5''|         106.0|             8' 10''|        null|       null|      null|                  27.0|             30.0|             11.6|                      null|                3.44|        2.0|                    null|                   null|                null|                    null|                     null|                    null|                   null|                null|                    null|                     null|                null|               null|            null|                null|                 null|                       null|                    null|                        null|                       null|                    null|                        null|           null|           null|\n",
      "|  2000|     2109|     Eddie|     Gill|      Eddie Gill|      PG|          71.75|           5' 11.75''|          null|                null| 176.0|    76.0|        6' 4''|          93.0|              7' 9''|        null|       null|      null|                  35.0|             38.5|            11.12|                      null|                3.18|       13.0|                    null|                   null|                null|                    null|                     null|                    null|                   null|                null|                    null|                     null|                null|               null|            null|                null|                 null|                       null|                    null|                        null|                       null|                    null|                        null|           null|           null|\n",
      "|  2000|    12135|   Ceedric|  Goodwyn| Ceedric Goodwyn|   SF-PF|           78.0|               6' 6''|          null|                null| 238.0|    82.0|       6' 10''|         104.5|            8' 8.5''|        null|       null|      null|                  null|             null|             null|                      null|                null|       null|                    null|                   null|                null|                    null|                     null|                    null|                   null|                null|                    null|                     null|                null|               null|            null|                null|                 null|                       null|                    null|                        null|                       null|                    null|                        null|           null|           null|\n",
      "|  2000|    12136|    Marcus|    Goree|    Marcus Goree|   SF-PF|           79.5|             6' 7.5''|          null|                null| 239.0|    84.5|      7' 0.5''|         105.5|            8' 9.5''|        null|       null|      null|                  29.5|             33.5|             12.0|                      null|                3.25|       13.0|                    null|                   null|                null|                    null|                     null|                    null|                   null|                null|                    null|                     null|                null|               null|            null|                null|                 null|                       null|                    null|                        null|                       null|                    null|                        null|           null|           null|\n",
      "|  2000|    12137|      A.J.|  Granger|    A.J. Granger|      SF|           79.5|             6' 7.5''|          null|                null| 227.0|    81.5|      6' 9.5''|         103.0|              8' 7''|        null|       null|      null|                  30.0|             34.0|            10.73|                      null|                3.25|       20.0|                    null|                   null|                null|                    null|                     null|                    null|                   null|                null|                    null|                     null|                null|               null|            null|                null|                 null|                       null|                    null|                        null|                       null|                    null|                        null|           null|           null|\n",
      "|  2000|     2062|      A.J.|   Guyton|     A.J. Guyton|   PG-SG|          72.75|            6' 0.75''|          null|                null| 175.0|   75.75|     6' 3.75''|          97.5|            8' 1.5''|        null|       null|      null|                  33.0|             37.5|            10.55|                      null|                3.22|        9.0|                    null|                   null|                null|                    null|                     null|                    null|                   null|                null|                    null|                     null|                null|               null|            null|                null|                 null|                       null|                    null|                        null|                       null|                    null|                        null|           null|           null|\n",
      "+------+---------+----------+---------+----------------+--------+---------------+---------------------+--------------+--------------------+------+--------+--------------+--------------+--------------------+------------+-----------+----------+----------------------+-----------------+-----------------+--------------------------+--------------------+-----------+------------------------+-----------------------+--------------------+------------------------+-------------------------+------------------------+-----------------------+--------------------+------------------------+-------------------------+--------------------+-------------------+----------------+--------------------+---------------------+---------------------------+------------------------+----------------------------+---------------------------+------------------------+----------------------------+---------------+---------------+\n",
      "only showing top 20 rows\n",
      "\n"
     ]
    }
   ],
   "source": [
    "df_draft_combine_stats.show()"
   ]
  },
  {
   "cell_type": "code",
   "execution_count": 8,
   "metadata": {},
   "outputs": [
    {
     "name": "stdout",
     "output_type": "stream",
     "text": [
      "+---------+----------+----------------+--------------------+------------------------+-------------------+--------------------+-------------------+---------------+-------+--------------------+------+------+----------+------+--------------+------------+--------------------------------+----------+-------------+-----------------+------------+------------+--------------------+---------+-------+------------+--------+-----------------+----------+-----------+------------+----------------+\n",
      "|person_id|first_name|       last_name|  display_first_last|display_last_comma_first|    display_fi_last|         player_slug|          birthdate|         school|country|    last_affiliation|height|weight|season_exp|jersey|      position|rosterstatus|games_played_current_season_flag|   team_id|    team_name|team_abbreviation|   team_code|   team_city|          playercode|from_year|to_year|dleague_flag|nba_flag|games_played_flag|draft_year|draft_round|draft_number|greatest_75_flag|\n",
      "+---------+----------+----------------+--------------------+------------------------+-------------------+--------------------+-------------------+---------------+-------+--------------------+------+------+----------+------+--------------+------------+--------------------------------+----------+-------------+-----------------+------------+------------+--------------------+---------+-------+------------+--------+-----------------+----------+-----------+------------+----------------+\n",
      "|       51|   Mahmoud|      Abdul-Rauf|  Mahmoud Abdul-Rauf|     Abdul-Rauf, Mahmoud|      M. Abdul-Rauf|  mahmoud-abdul-rauf|1969-03-09 00:00:00|Louisiana State|    USA| Louisiana State/USA|   6-1|   162|       9.0|     1|         Guard|    Inactive|                               N|1610612743|      Nuggets|              DEN|     nuggets|      Denver|  mahmoud_abdul-rauf|   1990.0| 2000.0|           N|       Y|                Y|      1990|          1|           3|               N|\n",
      "|     1505|     Tariq|     Abdul-Wahad|   Tariq Abdul-Wahad|      Abdul-Wahad, Tariq|     T. Abdul-Wahad|   tariq-abdul-wahad|1974-11-03 00:00:00| San Jose State| France|San Jose State/Fr...|   6-6|   235|       7.0|     9| Forward-Guard|    Inactive|                               N|1610612758|        Kings|              SAC|       kings|  Sacramento|   tariq_abdul-wahad|   1997.0| 2003.0|           N|       Y|                Y|      1997|          1|          11|               N|\n",
      "|    76007|      John|       Abramovic|      John Abramovic|         Abramovic, John|       J. Abramovic|      john-abramovic|1919-02-09 00:00:00|          Salem|    USA|           Salem/USA|   6-3|   195|       2.0|  null|       Forward|    Inactive|                               N|1610610031|      Ironmen|              PIT|     ironmen|  Pittsburgh|HISTADD_brooms_ab...|   1946.0| 1947.0|           N|       Y|                Y| Undrafted|  Undrafted|   Undrafted|               N|\n",
      "|   203112|    Quincy|             Acy|          Quincy Acy|             Acy, Quincy|             Q. Acy|          quincy-acy|1990-10-06 00:00:00|         Baylor|    USA|          Baylor/USA|   6-7|   240|       7.0|  null|       Forward|    Inactive|                               N|         0|         null|             null|        null|        null|          quincy_acy|   2012.0| 2018.0|           Y|       Y|                Y|      2012|          2|          37|               N|\n",
      "|   200801|    Hassan|           Adams|        Hassan Adams|           Adams, Hassan|           H. Adams|        hassan-adams|1984-06-20 00:00:00|        Arizona|    USA|         Arizona/USA|   6-4|   220|       2.0|  null|       Forward|    Inactive|                               N|         0|         null|             null|        null|        null|        hassan_adams|   2006.0| 2008.0|           N|       Y|                Y|      2006|          2|          54|               N|\n",
      "|   203919|    Jordan|           Adams|        Jordan Adams|           Adams, Jordan|           J. Adams|        jordan-adams|1994-07-08 00:00:00|           UCLA|    USA|            UCLA/USA|   6-5|   209|       3.0|     3|         Guard|    Inactive|                               N|1610612763|    Grizzlies|              MEM|   grizzlies|     Memphis|        jordan_adams|   2014.0| 2015.0|           Y|       Y|                Y|      2014|          1|          22|               N|\n",
      "|      912|    Rafael|         Addison|      Rafael Addison|         Addison, Rafael|         R. Addison|      rafael-addison|1964-07-22 00:00:00|       Syracuse|    USA|        Syracuse/USA|   6-8|   241|       6.0|     7|       Forward|    Inactive|                               N|1610612751|         Nets|              NJN|        nets|  New Jersey|      rafael_addison|   1986.0| 1996.0|           N|       Y|                Y|      1986|          2|          39|               N|\n",
      "|   201336|     Blake|          Ahearn|        Blake Ahearn|           Ahearn, Blake|          B. Ahearn|        blake-ahearn|1984-05-27 00:00:00| Missouri State|    USA|  Missouri State/USA|   6-2|   190|       4.0|     2|         Guard|    Inactive|                               N|1610612748|         Heat|              MIA|        heat|       Miami|        blake_ahearn|   2007.0| 2011.0|           Y|       Y|                Y| Undrafted|  Undrafted|   Undrafted|               N|\n",
      "|   202374|   Solomon|           Alabi|       Solomon Alabi|          Alabi, Solomon|           S. Alabi|       solomon-alabi|1988-03-21 00:00:00|  Florida State|Nigeria|Florida State/Nig...|   7-1|   252|       3.0|    50|        Center|    Inactive|                               N|1610612761|      Raptors|              TOR|     raptors|     Toronto|       solomon_alabi|   2010.0| 2011.0|           Y|       Y|                Y|      2010|          2|          50|               N|\n",
      "|    76019|      Mark|          Alarie|         Mark Alarie|            Alarie, Mark|          M. Alarie|         mark-alarie|1963-12-11 00:00:00|           Duke|    USA|            Duke/USA|   6-8|   217|       5.0|    31|       Forward|    Inactive|                               N|1610612764|      Bullets|              WAS|     wizards|  Washington| HISTADD_mark_alarie|   1986.0| 1990.0|           N|       Y|                Y|      1986|          1|          18|               N|\n",
      "|   203128|    Furkan|         Aldemir|      Furkan Aldemir|         Aldemir, Furkan|         F. Aldemir|      furkan-aldemir|1991-08-09 00:00:00|    Galatasaray| Turkey|  Galatasaray/Turkey|  6-10|   240|       2.0|    19|Forward-Center|    Inactive|                               N|1610612755|        76ers|              PHI|      sixers|Philadelphia|      furkan_aldemir|   2014.0| 2014.0|           N|       Y|                Y|      2012|          2|          53|               N|\n",
      "|   200746|  LaMarcus|        Aldridge|   LaMarcus Aldridge|      Aldridge, LaMarcus|        L. Aldridge|   lamarcus-aldridge|1985-07-19 00:00:00|   Texas-Austin|    USA|    Texas-Austin/USA|  6-11|   250|      17.0|    21|Center-Forward|    Inactive|                               N|1610612751|         Nets|              BKN|        nets|    Brooklyn|   lamarcus_aldridge|   2006.0| 2021.0|           N|       Y|                Y|      2006|          1|           2|               N|\n",
      "|  1626146|     Cliff|       Alexander|     Cliff Alexander|        Alexander, Cliff|       C. Alexander|     cliff-alexander|1995-11-16 00:00:00|         Kansas|    USA|          Kansas/USA|   6-8|   240|       2.0|    34|       Forward|    Inactive|                               N|1610612757|Trail Blazers|              POR|     blazers|    Portland|     cliff_alexander|   2015.0| 2015.0|           Y|       Y|                Y| Undrafted|  Undrafted|   Undrafted|               N|\n",
      "|    76022|      Gary|       Alexander|      Gary Alexander|         Alexander, Gary|       G. Alexander|      gary-alexander|1969-11-01 00:00:00|  South Florida|    USA|   South Florida/USA|   6-7|   240|       1.0|    16|       Forward|    Inactive|                               N|1610612739|    Cavaliers|              CLE|   cavaliers|   Cleveland|HISTADD_gary_alex...|   1993.0| 1993.0|           N|       Y|                Y| Undrafted|  Undrafted|   Undrafted|               N|\n",
      "|  1629734|      Kyle|       Alexander|      Kyle Alexander|         Alexander, Kyle|       K. Alexander|      kyle-alexander|1996-10-21 00:00:00|      Tennessee| Canada|    Tennessee/Canada|  6-10|   216|       2.0|    17|Forward-Center|    Inactive|                               N|1610612748|         Heat|              MIA|        heat|       Miami|      kyle_alexander|   2019.0| 2019.0|           Y|       Y|                Y| Undrafted|  Undrafted|   Undrafted|               N|\n",
      "|  1629638|   Nickeil|Alexander-Walker|Nickeil Alexander...|    Alexander-Walker,...|N. Alexander-Walker|nickeil-alexander...|1998-09-02 00:00:00|  Virginia Tech| Canada|Virginia Tech/Canada|   6-5|   205|       3.0|     9|         Guard|      Active|                               Y|1610612750| Timberwolves|              MIN|timberwolves|   Minnesota|nickeil_alexander...|   2019.0| 2022.0|           Y|       Y|                Y|      2019|          1|          17|               N|\n",
      "|  1628960|   Grayson|           Allen|       Grayson Allen|          Allen, Grayson|           G. Allen|       grayson-allen|1995-10-08 00:00:00|           Duke|    USA|            Duke/USA|   6-4|   198|       4.0|    12|         Guard|      Active|                               Y|1610612749|        Bucks|              MIL|       bucks|   Milwaukee|       grayson_allen|   2018.0| 2022.0|           Y|       Y|                Y|      2018|          1|          21|               N|\n",
      "|      706|    Jerome|           Allen|        Jerome Allen|           Allen, Jerome|           J. Allen|        jerome-allen|1973-01-28 00:00:00|   Pennsylvania|    USA|    Pennsylvania/USA|   6-4|   184|       2.0|    53|         Guard|    Inactive|                               N|1610612754|       Pacers|              IND|      pacers|     Indiana|        jerome_allen|   1995.0| 1996.0|           N|       Y|                Y|      1995|          2|          49|               N|\n",
      "|     2124|     Malik|           Allen|         Malik Allen|            Allen, Malik|           M. Allen|         malik-allen|1978-06-27 00:00:00|      Villanova|    USA|       Villanova/USA|  6-10|   255|      11.0|    35|       Forward|    Inactive|                               N|1610612748|         Heat|              MIA|        heat|       Miami|         malik_allen|   2001.0| 2010.0|           N|       Y|                Y| Undrafted|  Undrafted|   Undrafted|               N|\n",
      "|     1824|     Peter|           Aluma|         Peter Aluma|            Aluma, Peter|           P. Aluma|         peter-aluma|1973-04-26 00:00:00|        Liberty|    USA|         Liberty/USA|  6-10|   260|       1.0|  null|        Center|    Inactive|                               N|         0|         null|             null|        null|        null|         peter_aluma|   1998.0| 1998.0|           N|       Y|                Y| Undrafted|  Undrafted|   Undrafted|               N|\n",
      "+---------+----------+----------------+--------------------+------------------------+-------------------+--------------------+-------------------+---------------+-------+--------------------+------+------+----------+------+--------------+------------+--------------------------------+----------+-------------+-----------------+------------+------------+--------------------+---------+-------+------------+--------+-----------------+----------+-----------+------------+----------------+\n",
      "only showing top 20 rows\n",
      "\n"
     ]
    }
   ],
   "source": [
    "df_common_player_info.show()"
   ]
  },
  {
   "cell_type": "code",
   "execution_count": 18,
   "metadata": {},
   "outputs": [],
   "source": [
    "# for i, df in enumerate(dataframes):\n",
    "#     print(f\"DataFrame {i+1}: {file_names[i]}\")\n",
    "#     df.show()\n"
   ]
  },
  {
   "cell_type": "code",
   "execution_count": 22,
   "metadata": {},
   "outputs": [
    {
     "name": "stdout",
     "output_type": "stream",
     "text": [
      "root\n",
      " |-- season: integer (nullable = true)\n",
      " |-- player_id: integer (nullable = true)\n",
      " |-- first_name: string (nullable = true)\n",
      " |-- last_name: string (nullable = true)\n",
      " |-- player_name: string (nullable = true)\n",
      " |-- position: string (nullable = true)\n",
      " |-- height_wo_shoes: double (nullable = true)\n",
      " |-- height_wo_shoes_ft_in: string (nullable = true)\n",
      " |-- height_w_shoes: double (nullable = true)\n",
      " |-- height_w_shoes_ft_in: string (nullable = true)\n",
      " |-- weight: double (nullable = true)\n",
      " |-- wingspan: double (nullable = true)\n",
      " |-- wingspan_ft_in: string (nullable = true)\n",
      " |-- standing_reach: double (nullable = true)\n",
      " |-- standing_reach_ft_in: string (nullable = true)\n",
      " |-- body_fat_pct: double (nullable = true)\n",
      " |-- hand_length: double (nullable = true)\n",
      " |-- hand_width: double (nullable = true)\n",
      " |-- standing_vertical_leap: double (nullable = true)\n",
      " |-- max_vertical_leap: double (nullable = true)\n",
      " |-- lane_agility_time: double (nullable = true)\n",
      " |-- modified_lane_agility_time: double (nullable = true)\n",
      " |-- three_quarter_sprint: double (nullable = true)\n",
      " |-- bench_press: double (nullable = true)\n",
      " |-- spot_fifteen_corner_left: string (nullable = true)\n",
      " |-- spot_fifteen_break_left: string (nullable = true)\n",
      " |-- spot_fifteen_top_key: string (nullable = true)\n",
      " |-- spot_fifteen_break_right: string (nullable = true)\n",
      " |-- spot_fifteen_corner_right: string (nullable = true)\n",
      " |-- spot_college_corner_left: string (nullable = true)\n",
      " |-- spot_college_break_left: string (nullable = true)\n",
      " |-- spot_college_top_key: string (nullable = true)\n",
      " |-- spot_college_break_right: string (nullable = true)\n",
      " |-- spot_college_corner_right: string (nullable = true)\n",
      " |-- spot_nba_corner_left: string (nullable = true)\n",
      " |-- spot_nba_break_left: string (nullable = true)\n",
      " |-- spot_nba_top_key: string (nullable = true)\n",
      " |-- spot_nba_break_right: string (nullable = true)\n",
      " |-- spot_nba_corner_right: string (nullable = true)\n",
      " |-- off_drib_fifteen_break_left: string (nullable = true)\n",
      " |-- off_drib_fifteen_top_key: string (nullable = true)\n",
      " |-- off_drib_fifteen_break_right: string (nullable = true)\n",
      " |-- off_drib_college_break_left: string (nullable = true)\n",
      " |-- off_drib_college_top_key: string (nullable = true)\n",
      " |-- off_drib_college_break_right: string (nullable = true)\n",
      " |-- on_move_fifteen: string (nullable = true)\n",
      " |-- on_move_college: string (nullable = true)\n",
      "\n"
     ]
    }
   ],
   "source": [
    "df_draft_combine_stats.printSchema()"
   ]
  },
  {
   "cell_type": "code",
   "execution_count": 19,
   "metadata": {},
   "outputs": [
    {
     "name": "stdout",
     "output_type": "stream",
     "text": [
      "['season', 'player_id', 'first_name', 'last_name', 'player_name', 'position', 'height_wo_shoes', 'height_wo_shoes_ft_in', 'height_w_shoes', 'height_w_shoes_ft_in', 'weight', 'wingspan', 'wingspan_ft_in', 'standing_reach', 'standing_reach_ft_in', 'body_fat_pct', 'hand_length', 'hand_width', 'standing_vertical_leap', 'max_vertical_leap', 'lane_agility_time', 'modified_lane_agility_time', 'three_quarter_sprint', 'bench_press', 'spot_fifteen_corner_left', 'spot_fifteen_break_left', 'spot_fifteen_top_key', 'spot_fifteen_break_right', 'spot_fifteen_corner_right', 'spot_college_corner_left', 'spot_college_break_left', 'spot_college_top_key', 'spot_college_break_right', 'spot_college_corner_right', 'spot_nba_corner_left', 'spot_nba_break_left', 'spot_nba_top_key', 'spot_nba_break_right', 'spot_nba_corner_right', 'off_drib_fifteen_break_left', 'off_drib_fifteen_top_key', 'off_drib_fifteen_break_right', 'off_drib_college_break_left', 'off_drib_college_top_key', 'off_drib_college_break_right', 'on_move_fifteen', 'on_move_college']\n"
     ]
    }
   ],
   "source": [
    "column_names = df_draft_combine_stats.columns\n",
    "print(column_names)"
   ]
  },
  {
   "cell_type": "code",
   "execution_count": 20,
   "metadata": {},
   "outputs": [
    {
     "ename": "KeyError",
     "evalue": "0",
     "output_type": "error",
     "traceback": [
      "\u001b[1;31m---------------------------------------------------------------------------\u001b[0m",
      "\u001b[1;31mKeyError\u001b[0m                                  Traceback (most recent call last)",
      "\u001b[1;32m~\\AppData\\Local\\Temp\\ipykernel_5020\\4071701428.py\u001b[0m in \u001b[0;36m<module>\u001b[1;34m\u001b[0m\n\u001b[1;32m----> 1\u001b[1;33m \u001b[0mcolumn_types\u001b[0m \u001b[1;33m=\u001b[0m \u001b[0mdataframes\u001b[0m\u001b[1;33m[\u001b[0m\u001b[1;36m0\u001b[0m\u001b[1;33m]\u001b[0m\u001b[1;33m.\u001b[0m\u001b[0mdtypes\u001b[0m\u001b[1;33m\u001b[0m\u001b[1;33m\u001b[0m\u001b[0m\n\u001b[0m\u001b[0;32m      2\u001b[0m \u001b[0mprint\u001b[0m\u001b[1;33m(\u001b[0m\u001b[0mcolumn_types\u001b[0m\u001b[1;33m)\u001b[0m\u001b[1;33m\u001b[0m\u001b[1;33m\u001b[0m\u001b[0m\n",
      "\u001b[1;31mKeyError\u001b[0m: 0"
     ]
    }
   ],
   "source": [
    "column_types = dataframes[0].dtypes\n",
    "print(column_types)"
   ]
  },
  {
   "cell_type": "code",
   "execution_count": null,
   "metadata": {},
   "outputs": [
    {
     "name": "stdout",
     "output_type": "stream",
     "text": [
      "+----------+--------------------+------------+------------+------------+-------------+------------+\n",
      "|        id|           full_name|abbreviation|    nickname|        city|        state|year_founded|\n",
      "+----------+--------------------+------------+------------+------------+-------------+------------+\n",
      "|1610612737|       Atlanta Hawks|         ATL|       Hawks|     Atlanta|      Atlanta|      1949.0|\n",
      "|1610612738|      Boston Celtics|         BOS|     Celtics|      Boston|Massachusetts|      1946.0|\n",
      "|1610612739| Cleveland Cavaliers|         CLE|   Cavaliers|   Cleveland|         Ohio|      1970.0|\n",
      "|1610612740|New Orleans Pelicans|         NOP|    Pelicans| New Orleans|    Louisiana|      2002.0|\n",
      "|1610612741|       Chicago Bulls|         CHI|       Bulls|     Chicago|     Illinois|      1966.0|\n",
      "|1610612742|    Dallas Mavericks|         DAL|   Mavericks|      Dallas|        Texas|      1980.0|\n",
      "|1610612743|      Denver Nuggets|         DEN|     Nuggets|      Denver|     Colorado|      1976.0|\n",
      "|1610612744|Golden State Warr...|         GSW|    Warriors|Golden State|   California|      1946.0|\n",
      "|1610612745|     Houston Rockets|         HOU|     Rockets|     Houston|        Texas|      1967.0|\n",
      "|1610612746|Los Angeles Clippers|         LAC|    Clippers| Los Angeles|   California|      1970.0|\n",
      "|1610612747|  Los Angeles Lakers|         LAL|      Lakers| Los Angeles|   California|      1948.0|\n",
      "|1610612748|          Miami Heat|         MIA|        Heat|       Miami|      Florida|      1988.0|\n",
      "|1610612749|     Milwaukee Bucks|         MIL|       Bucks|   Milwaukee|    Wisconsin|      1968.0|\n",
      "|1610612750|Minnesota Timberw...|         MIN|Timberwolves|   Minnesota|    Minnesota|      1989.0|\n",
      "|1610612751|       Brooklyn Nets|         BKN|        Nets|    Brooklyn|     New York|      1976.0|\n",
      "|1610612752|     New York Knicks|         NYK|      Knicks|    New York|     New York|      1946.0|\n",
      "|1610612753|       Orlando Magic|         ORL|       Magic|     Orlando|      Florida|      1989.0|\n",
      "|1610612754|      Indiana Pacers|         IND|      Pacers|     Indiana|      Indiana|      1976.0|\n",
      "|1610612755|  Philadelphia 76ers|         PHI|       76ers|Philadelphia| Pennsylvania|      1949.0|\n",
      "|1610612756|        Phoenix Suns|         PHX|        Suns|     Phoenix|      Arizona|      1968.0|\n",
      "+----------+--------------------+------------+------------+------------+-------------+------------+\n",
      "only showing top 20 rows\n",
      "\n"
     ]
    }
   ],
   "source": [
    "df = spark.read.csv(\"csv/team.csv\", header=True, inferSchema=True)\n",
    "\n",
    "# Perform some PySpark operations\n",
    "# result = df.groupBy(\"team_name_home\").count()\n",
    "\n",
    "# Show the result\n",
    "column_names = df.columns\n",
    "df.show()"
   ]
  },
  {
   "cell_type": "code",
   "execution_count": null,
   "metadata": {},
   "outputs": [
    {
     "ename": "ProgrammingError",
     "evalue": "Cannot operate on a closed database.",
     "output_type": "error",
     "traceback": [
      "\u001b[1;31m---------------------------------------------------------------------------\u001b[0m",
      "\u001b[1;31mProgrammingError\u001b[0m                          Traceback (most recent call last)",
      "Cell \u001b[1;32mIn[30], line 1\u001b[0m\n\u001b[1;32m----> 1\u001b[0m result1 \u001b[39m=\u001b[39m pd\u001b[39m.\u001b[39;49mread_sql_query(\u001b[39m\"\u001b[39;49m\u001b[39mSELECT * FROM game_info;\u001b[39;49m\u001b[39m\"\u001b[39;49m, conn)\n\u001b[0;32m      2\u001b[0m result2 \u001b[39m=\u001b[39m pd\u001b[39m.\u001b[39mread_sql_query(\u001b[39m\"\u001b[39m\u001b[39mSELECT * FROM game;\u001b[39m\u001b[39m\"\u001b[39m, conn)\n",
      "File \u001b[1;32mc:\\Users\\MD_Rahman\\Desktop\\Cognixia\\PEP2\\pep_project2\\venv\\lib\\site-packages\\pandas\\io\\sql.py:469\u001b[0m, in \u001b[0;36mread_sql_query\u001b[1;34m(sql, con, index_col, coerce_float, params, parse_dates, chunksize, dtype, dtype_backend)\u001b[0m\n\u001b[0;32m    466\u001b[0m     dtype_backend \u001b[39m=\u001b[39m \u001b[39m\"\u001b[39m\u001b[39mnumpy\u001b[39m\u001b[39m\"\u001b[39m  \u001b[39m# type: ignore[assignment]\u001b[39;00m\n\u001b[0;32m    468\u001b[0m \u001b[39mwith\u001b[39;00m pandasSQL_builder(con) \u001b[39mas\u001b[39;00m pandas_sql:\n\u001b[1;32m--> 469\u001b[0m     \u001b[39mreturn\u001b[39;00m pandas_sql\u001b[39m.\u001b[39;49mread_query(\n\u001b[0;32m    470\u001b[0m         sql,\n\u001b[0;32m    471\u001b[0m         index_col\u001b[39m=\u001b[39;49mindex_col,\n\u001b[0;32m    472\u001b[0m         params\u001b[39m=\u001b[39;49mparams,\n\u001b[0;32m    473\u001b[0m         coerce_float\u001b[39m=\u001b[39;49mcoerce_float,\n\u001b[0;32m    474\u001b[0m         parse_dates\u001b[39m=\u001b[39;49mparse_dates,\n\u001b[0;32m    475\u001b[0m         chunksize\u001b[39m=\u001b[39;49mchunksize,\n\u001b[0;32m    476\u001b[0m         dtype\u001b[39m=\u001b[39;49mdtype,\n\u001b[0;32m    477\u001b[0m         dtype_backend\u001b[39m=\u001b[39;49mdtype_backend,\n\u001b[0;32m    478\u001b[0m     )\n",
      "File \u001b[1;32mc:\\Users\\MD_Rahman\\Desktop\\Cognixia\\PEP2\\pep_project2\\venv\\lib\\site-packages\\pandas\\io\\sql.py:2266\u001b[0m, in \u001b[0;36mSQLiteDatabase.read_query\u001b[1;34m(self, sql, index_col, coerce_float, parse_dates, params, chunksize, dtype, dtype_backend)\u001b[0m\n\u001b[0;32m   2255\u001b[0m \u001b[39mdef\u001b[39;00m \u001b[39mread_query\u001b[39m(\n\u001b[0;32m   2256\u001b[0m     \u001b[39mself\u001b[39m,\n\u001b[0;32m   2257\u001b[0m     sql,\n\u001b[1;32m   (...)\u001b[0m\n\u001b[0;32m   2264\u001b[0m     dtype_backend: DtypeBackend \u001b[39m|\u001b[39m Literal[\u001b[39m\"\u001b[39m\u001b[39mnumpy\u001b[39m\u001b[39m\"\u001b[39m] \u001b[39m=\u001b[39m \u001b[39m\"\u001b[39m\u001b[39mnumpy\u001b[39m\u001b[39m\"\u001b[39m,\n\u001b[0;32m   2265\u001b[0m ) \u001b[39m-\u001b[39m\u001b[39m>\u001b[39m DataFrame \u001b[39m|\u001b[39m Iterator[DataFrame]:\n\u001b[1;32m-> 2266\u001b[0m     cursor \u001b[39m=\u001b[39m \u001b[39mself\u001b[39;49m\u001b[39m.\u001b[39;49mexecute(sql, params)\n\u001b[0;32m   2267\u001b[0m     columns \u001b[39m=\u001b[39m [col_desc[\u001b[39m0\u001b[39m] \u001b[39mfor\u001b[39;00m col_desc \u001b[39min\u001b[39;00m cursor\u001b[39m.\u001b[39mdescription]\n\u001b[0;32m   2269\u001b[0m     \u001b[39mif\u001b[39;00m chunksize \u001b[39mis\u001b[39;00m \u001b[39mnot\u001b[39;00m \u001b[39mNone\u001b[39;00m:\n",
      "File \u001b[1;32mc:\\Users\\MD_Rahman\\Desktop\\Cognixia\\PEP2\\pep_project2\\venv\\lib\\site-packages\\pandas\\io\\sql.py:2200\u001b[0m, in \u001b[0;36mSQLiteDatabase.execute\u001b[1;34m(self, sql, params)\u001b[0m\n\u001b[0;32m   2198\u001b[0m     \u001b[39mraise\u001b[39;00m \u001b[39mTypeError\u001b[39;00m(\u001b[39m\"\u001b[39m\u001b[39mQuery must be a string unless using sqlalchemy.\u001b[39m\u001b[39m\"\u001b[39m)\n\u001b[0;32m   2199\u001b[0m args \u001b[39m=\u001b[39m [] \u001b[39mif\u001b[39;00m params \u001b[39mis\u001b[39;00m \u001b[39mNone\u001b[39;00m \u001b[39melse\u001b[39;00m [params]\n\u001b[1;32m-> 2200\u001b[0m cur \u001b[39m=\u001b[39m \u001b[39mself\u001b[39;49m\u001b[39m.\u001b[39;49mcon\u001b[39m.\u001b[39;49mcursor()\n\u001b[0;32m   2201\u001b[0m \u001b[39mtry\u001b[39;00m:\n\u001b[0;32m   2202\u001b[0m     cur\u001b[39m.\u001b[39mexecute(sql, \u001b[39m*\u001b[39margs)\n",
      "\u001b[1;31mProgrammingError\u001b[0m: Cannot operate on a closed database."
     ]
    }
   ],
   "source": [
    "result1 = pd.read_sql_query(\"SELECT * FROM game_info;\", conn)\n",
    "result2 = pd.read_sql_query(\"SELECT * FROM game;\", conn)"
   ]
  }
 ],
 "metadata": {
  "kernelspec": {
   "display_name": "venv",
   "language": "python",
   "name": "python3"
  },
  "language_info": {
   "codemirror_mode": {
    "name": "ipython",
    "version": 3
   },
   "file_extension": ".py",
   "mimetype": "text/x-python",
   "name": "python",
   "nbconvert_exporter": "python",
   "pygments_lexer": "ipython3",
   "version": "3.9.13"
  },
  "orig_nbformat": 4
 },
 "nbformat": 4,
 "nbformat_minor": 2
}
